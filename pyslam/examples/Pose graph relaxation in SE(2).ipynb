{
 "cells": [
  {
   "cell_type": "code",
   "execution_count": 1,
   "metadata": {
    "collapsed": true
   },
   "outputs": [],
   "source": [
    "%matplotlib inline\n",
    "\n",
    "import numpy as np\n",
    "import matplotlib.pyplot as plt"
   ]
  },
  {
   "cell_type": "markdown",
   "metadata": {},
   "source": [
    "# Create data"
   ]
  },
  {
   "cell_type": "code",
   "execution_count": 2,
   "metadata": {
    "collapsed": true
   },
   "outputs": [],
   "source": [
    "import copy\n",
    "from liegroups import SE2, SO2\n",
    "\n",
    "params_true = {'T_1_0': SE2.identity(),\n",
    "               'T_2_0': SE2(SO2.identity(), -np.array([0.5, 0])),\n",
    "               'T_3_0': SE2(SO2.identity(), -np.array([1, 0])),\n",
    "               'T_4_0': SE2(SO2.from_angle(np.pi / 2),\n",
    "                             -(SO2.from_angle(np.pi / 2).dot(np.array([1, 0.5])))),\n",
    "               'T_5_0': SE2(SO2.from_angle(np.pi),\n",
    "                             -(SO2.from_angle(np.pi).dot(np.array([0.5, 0.5])))),\n",
    "               'T_6_0': SE2(SO2.from_angle(-np.pi / 2),\n",
    "                             -(SO2.from_angle(-np.pi / 2).dot(np.array([0.5, 0]))))}\n",
    "\n",
    "obs = {'T_1_0': params_true['T_1_0'],\n",
    "       'T_2_1': params_true['T_2_0'].dot(params_true['T_1_0'].inv()),\n",
    "       'T_3_2': params_true['T_3_0'].dot(params_true['T_2_0'].inv()),\n",
    "       'T_4_3': params_true['T_4_0'].dot(params_true['T_3_0'].inv()),\n",
    "       'T_5_4': params_true['T_5_0'].dot(params_true['T_4_0'].inv()),\n",
    "       'T_6_5': params_true['T_6_0'].dot(params_true['T_5_0'].inv()),\n",
    "       'T_6_2': params_true['T_6_0'].dot(params_true['T_2_0'].inv())}\n",
    "\n",
    "params_init = copy.deepcopy(params_true)\n",
    "for key in params_init.keys():\n",
    "    params_init[key] = SE2.exp(5 * np.random.rand(3)).dot(params_init[key])"
   ]
  },
  {
   "cell_type": "markdown",
   "metadata": {},
   "source": [
    "# Create residual functions"
   ]
  },
  {
   "cell_type": "code",
   "execution_count": 3,
   "metadata": {
    "collapsed": true
   },
   "outputs": [],
   "source": [
    "from pyslam.residuals import PoseResidual, PoseToPoseResidual\n",
    "from pyslam.utils import invsqrt\n",
    "\n",
    "prior_stiffness = invsqrt(1e-12 * np.identity(3))\n",
    "odom_stiffness = invsqrt(1e-3 * np.identity(3))\n",
    "loop_stiffness = invsqrt(1e-3 * np.identity(3))\n",
    "\n",
    "residual0 = PoseResidual(obs['T_1_0'], prior_stiffness)\n",
    "residual0_params = ['T_1_0']\n",
    "\n",
    "residual1 = PoseToPoseResidual(obs['T_2_1'], odom_stiffness)\n",
    "residual1_params = ['T_1_0', 'T_2_0']\n",
    "\n",
    "residual2 = PoseToPoseResidual(obs['T_3_2'], odom_stiffness)\n",
    "residual2_params = ['T_2_0', 'T_3_0']\n",
    "\n",
    "residual3 = PoseToPoseResidual(obs['T_4_3'], odom_stiffness)\n",
    "residual3_params = ['T_3_0', 'T_4_0']\n",
    "\n",
    "residual4 = PoseToPoseResidual(obs['T_5_4'], odom_stiffness)\n",
    "residual4_params = ['T_4_0', 'T_5_0']\n",
    "\n",
    "residual5 = PoseToPoseResidual(obs['T_6_5'], odom_stiffness)\n",
    "residual5_params = ['T_5_0', 'T_6_0']\n",
    "\n",
    "residual6 = PoseToPoseResidual(obs['T_6_2'], loop_stiffness)\n",
    "residual6_params = ['T_2_0', 'T_6_0']"
   ]
  },
  {
   "cell_type": "markdown",
   "metadata": {},
   "source": [
    "# Set up and solve the problem"
   ]
  },
  {
   "cell_type": "code",
   "execution_count": 4,
   "metadata": {},
   "outputs": [
    {
     "name": "stdout",
     "output_type": "stream",
     "text": [
      " Iter | Initial cost -->   Final cost | Rel change\n",
      "---------------------------------------------------\n",
      "    0 | 9.121549e+12 --> 5.589831e+05 |  -1.000000\n",
      "    1 | 5.589831e+05 --> 1.025884e+06 |  +0.835269\n",
      "    2 | 1.025884e+06 --> 1.873103e+05 |  -0.817416\n",
      "    3 | 1.873103e+05 --> 1.382122e-20 |  -1.000000\n",
      "\n"
     ]
    }
   ],
   "source": [
    "from pyslam.problem import Problem, Options\n",
    "\n",
    "options = Options()\n",
    "options.allow_nondecreasing_steps = True\n",
    "options.max_nondecreasing_steps = 3\n",
    "\n",
    "problem = Problem(options)\n",
    "\n",
    "problem.add_residual_block(residual0, residual0_params)\n",
    "problem.add_residual_block(residual1, residual1_params)\n",
    "problem.add_residual_block(residual2, residual2_params)\n",
    "problem.add_residual_block(residual3, residual3_params)\n",
    "problem.add_residual_block(residual4, residual4_params)\n",
    "problem.add_residual_block(residual5, residual5_params)\n",
    "# problem.add_residual_block(residual6, residual6_params)\n",
    "\n",
    "problem.initialize_params(params_init)\n",
    "\n",
    "params_final = problem.solve()\n",
    "print(problem.summary(format='full'))"
   ]
  },
  {
   "cell_type": "markdown",
   "metadata": {},
   "source": [
    "# Check results"
   ]
  },
  {
   "cell_type": "code",
   "execution_count": 5,
   "metadata": {},
   "outputs": [
    {
     "name": "stdout",
     "output_type": "stream",
     "text": [
      "Initial Error:\n",
      "T_1_0: [-3.57281388 -1.32609006 -1.92862229]\n",
      "T_2_0: [-0.20933454 -1.49852304 -0.27623214]\n",
      "T_3_0: [ 1.60030389 -1.67503658  2.31333315]\n",
      "T_4_0: [ 1.9892008  -3.77873024  1.98757343]\n",
      "T_5_0: [ 3.38330382  3.57822363 -0.64490654]\n",
      "T_6_0: [-0.9920332   0.54628132  2.27827381]\n",
      "\n",
      "Final Error:\n",
      "T_1_0: [ 0. -0. -0.]\n",
      "T_2_0: [ 0.  0. -0.]\n",
      "T_3_0: [ 0. -0. -0.]\n",
      "T_4_0: [-0. -0. -0.]\n",
      "T_5_0: [ 0. -0. -0.]\n",
      "T_6_0: [ 0.  0. -0.]\n"
     ]
    }
   ],
   "source": [
    "print(\"Initial Error:\")\n",
    "for key in params_true.keys():\n",
    "    print('{}: {}'.format(key, SE2.log(params_init[key].inv().dot(params_true[key]))))\n",
    "\n",
    "print()\n",
    "\n",
    "print(\"Final Error:\")\n",
    "for key in params_true.keys():\n",
    "    print('{}: {}'.format(key, SE2.log(params_final[key].inv().dot(params_true[key]))))"
   ]
  },
  {
   "cell_type": "markdown",
   "metadata": {},
   "source": [
    "# Optional: Compute the covariance of the final parameter estimates"
   ]
  },
  {
   "cell_type": "code",
   "execution_count": 6,
   "metadata": {},
   "outputs": [
    {
     "name": "stdout",
     "output_type": "stream",
     "text": [
      "covariance of T_5_0:\n",
      "[[ 0.01275 -0.00025  0.0045 ]\n",
      " [-0.00025  0.00425 -0.0005 ]\n",
      " [ 0.0045  -0.0005   0.004  ]]\n"
     ]
    }
   ],
   "source": [
    "problem.compute_covariance()\n",
    "print('covariance of T_5_0:\\n{}'.format( problem.get_covariance_block('T_5_0','T_5_0') ))"
   ]
  }
 ],
 "metadata": {
  "kernelspec": {
   "display_name": "Python 3",
   "language": "python",
   "name": "python3"
  },
  "language_info": {
   "codemirror_mode": {
    "name": "ipython",
    "version": 3
   },
   "file_extension": ".py",
   "mimetype": "text/x-python",
   "name": "python",
   "nbconvert_exporter": "python",
   "pygments_lexer": "ipython3",
   "version": "3.6.2"
  }
 },
 "nbformat": 4,
 "nbformat_minor": 2
}
